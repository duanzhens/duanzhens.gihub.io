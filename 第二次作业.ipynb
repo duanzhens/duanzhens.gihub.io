{
 "cells": [
  {
   "cell_type": "markdown",
   "metadata": {},
   "source": [
    "import urllib.parse\n",
    "import urllib.request\n",
    "def crawler():\n",
    "    url = \"https://cn.bing.com/ttranslatev3?isVertical=1&&IG=2B73CBCDC8F54EAFABF49389E29DC19A&IID=translator.5028.2\"\n",
    "    form_data = {\n",
    "    \"fromLang\": \"auto-detect\",\n",
    "    \"text\": input(\"请输入单词：\"),\n",
    "    \"to\": \"en\"\n",
    "    }\n",
    "    data = bytes(urllib.parse.urlencode(form_data), encoding='utf8')\n",
    "    response = urllib.request.urlopen(url, data=data)\n",
    "    print(response.read().decode('utf-8'))\n",
    "if __name__ == \"__main__\":\n",
    "    crawler()"
   ]
  }
 ],
 "metadata": {
  "kernelspec": {
   "display_name": "Python 3",
   "language": "python",
   "name": "python3"
  },
  "language_info": {
   "codemirror_mode": {
    "name": "ipython",
    "version": 3
   },
   "file_extension": ".py",
   "mimetype": "text/x-python",
   "name": "python",
   "nbconvert_exporter": "python",
   "pygments_lexer": "ipython3",
   "version": "3.8.3rc1"
  }
 },
 "nbformat": 4,
 "nbformat_minor": 4
}
