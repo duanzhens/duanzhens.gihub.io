{
 "cells": [
  {
   "cell_type": "markdown",
   "metadata": {},
   "source": [
    "列表\n",
    "1. 可以容纳不同的数据类型\n",
    "2. 是一种可变序列\n",
    "3. 可以通过索引访问元素（从0开始）\n",
    "4. 支持切片运算"
   ]
  },
  {
   "cell_type": "markdown",
   "metadata": {},
   "source": [
    "- len()\n",
    "使用len（）函数可以查看列表的长度"
   ]
  },
  {
   "cell_type": "code",
   "execution_count": 20,
   "metadata": {},
   "outputs": [
    {
     "name": "stdout",
     "output_type": "stream",
     "text": [
      "3\n"
     ]
    }
   ],
   "source": [
    "squ = [1,2,3]\n",
    "length = len(squ)\n",
    "print(length)"
   ]
  },
  {
   "cell_type": "markdown",
   "metadata": {},
   "source": [
    "- 索引"
   ]
  },
  {
   "cell_type": "markdown",
   "metadata": {},
   "source": [
    "列表是一个可变对象，可以通过索引来改变列表元素的值，也可以通过列表来访问元素"
   ]
  },
  {
   "cell_type": "markdown",
   "metadata": {},
   "source": [
    "squ = [1,2,3,'A']\n",
    "print(squ[3])\n",
    "squ[3] = 4\n",
    "print(squ)\n",
    "print(squ[10]) # IndexError: List index out of range\n"
   ]
  },
  {
   "cell_type": "markdown",
   "metadata": {},
   "source": [
    "-切片"
   ]
  },
  {
   "cell_type": "markdown",
   "metadata": {},
   "source": [
    "1.start:起始位置\n",
    "2.end:结束位置\n",
    "3.step：步长，默认为1，为正数时，从左到右。为负数时，从右到左。"
   ]
  },
  {
   "cell_type": "markdown",
   "metadata": {},
   "source": [
    "list = [0,1,2,3,4,5,6,7]\n",
    "print(list[:5])\n",
    "#切片反转元素\n",
    "print(list[::-1])"
   ]
  },
  {
   "cell_type": "markdown",
   "metadata": {},
   "source": [
    "markdown语法"
   ]
  },
  {
   "cell_type": "markdown",
   "metadata": {},
   "source": [
    "- 折叠标题内容"
   ]
  },
  {
   "cell_type": "markdown",
   "metadata": {},
   "source": [
    "<details>\n",
    "<summary>展开查看</summary>\n",
    "\n",
    "</details>\n"
   ]
  },
  {
   "cell_type": "markdown",
   "metadata": {},
   "source": [
    "- 插入图片"
   ]
  },
  {
   "cell_type": "markdown",
   "metadata": {},
   "source": [
    "！[图片]（http://tupian.baike.com/ipad/a0_64_76_20300001349415131407760417677_jpg.html）"
   ]
  },
  {
   "cell_type": "markdown",
   "metadata": {},
   "source": [
    "- 插入链接"
   ]
  },
  {
   "cell_type": "markdown",
   "metadata": {},
   "source": [
    "[qq](https://www.qq.com/)"
   ]
  },
  {
   "cell_type": "markdown",
   "metadata": {},
   "source": [
    "正则表达式"
   ]
  },
  {
   "cell_type": "markdown",
   "metadata": {},
   "source": [
    "^ ：^会匹配行或者字符串的起始位置，有时还会匹配整个文档的起始位置。\n",
    "\n",
    "$ ：$会匹配行或字符串的结尾\n",
    "\n",
    "\\b :不会消耗任何字符只匹配一个位置，常用于匹配单词边界 如 我想从字符串中\"This is Regex\"匹配单独的单词 \"is\" 正则就要写成 \"\\bis\\b\"\n",
    "     \\b 不会匹配is 两边的字符，但它会识别is 两边是否为单词的边界\n",
    "\n",
    "\\d: 匹配数字，例如要匹配一个固定格式的电话号码以0开头前4位后7位，如0737-5686123 正则:^0\\d\\d\\d-\\d\\d\\d\\d\\d\\d\\d$\n",
    "\n",
    "\\w：匹配字母，数字，下划线."
   ]
  },
  {
   "cell_type": "markdown",
   "metadata": {},
   "source": [
    "    例如我要匹配”a2345BCD__TTz” 正则：”\\w+” 这里的”+”字符为一个量词指重复的次数，稍后会详细介绍。"
   ]
  },
  {
   "cell_type": "markdown",
   "metadata": {},
   "source": [
    "\\s：匹配空格"
   ]
  },
  {
   "cell_type": "markdown",
   "metadata": {},
   "source": [
    "   例如字符 “a b c” 正则：”\\w\\s\\w\\s\\w” 一个字符后跟一个空格，如有字符间有多个空格直接把”\\s” 写成 “\\s+” 让空格重复"
   ]
  },
  {
   "cell_type": "markdown",
   "metadata": {},
   "source": [
    ".：匹配除了换行符以外的任何字符\n",
    "\n",
    "[abc]: 字符组 匹配包含括号内元素的字符\n",
    "\n",
    "\\W：匹配任意不是字母，数字，下划线 的字符\n",
    "\n",
    "\\S：匹配任意不是空白符的字符\n",
    "\n",
    "\\D：匹配任意非数字的字符\n",
    "\n",
    "\\B：匹配不是单词开头或结束的位置\n",
    "\n",
    "[^abc]：匹配除了abc以外的任意字符"
   ]
  }
 ],
 "metadata": {
  "kernelspec": {
   "display_name": "Python 3",
   "language": "python",
   "name": "python3"
  },
  "language_info": {
   "codemirror_mode": {
    "name": "ipython",
    "version": 3
   },
   "file_extension": ".py",
   "mimetype": "text/x-python",
   "name": "python",
   "nbconvert_exporter": "python",
   "pygments_lexer": "ipython3",
   "version": "3.8.3rc1"
  }
 },
 "nbformat": 4,
 "nbformat_minor": 4
}
